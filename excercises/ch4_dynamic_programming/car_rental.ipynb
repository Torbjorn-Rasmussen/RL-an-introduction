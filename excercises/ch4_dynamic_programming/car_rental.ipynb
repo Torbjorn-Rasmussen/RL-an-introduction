{
 "cells": [
  {
   "cell_type": "code",
   "execution_count": 15,
   "metadata": {},
   "outputs": [],
   "source": [
    "import numpy as np\n",
    "import matplotlib.pyplot as plt\n",
    "import math\n",
    "from dataclasses import dataclass\n",
    "from typing import Optional\n"
   ]
  },
  {
   "cell_type": "markdown",
   "metadata": {},
   "source": [
    "# policy iteration"
   ]
  },
  {
   "cell_type": "code",
   "execution_count": 16,
   "metadata": {},
   "outputs": [],
   "source": [
    "# initialisation\n",
    "max_cars = 20\n",
    "value_function = np.random.randint(0,50,(max_cars+1,max_cars+1))\n",
    "# value_function[0,0] = 0\n",
    "policy = np.random.uniform(0,1,11)\n",
    "policy = policy / np.sum(policy)\n",
    "\n",
    "def calc_poisson(lambda_, k):\n",
    "    return np.array([lambda_**n/math.factorial(n)*np.exp(-lambda_) for n in range(k+1)])\n",
    "\n",
    "rented_cars_A = calc_poisson(3,max_cars)\n",
    "rented_cars_B = calc_poisson(4,max_cars)\n",
    "\n",
    "returned_cars_A = calc_poisson(3,max_cars)\n",
    "returned_cars_B = calc_poisson(2,max_cars)\n",
    "\n",
    "\n",
    "\n",
    "# def calc_reward(state, action):\n",
    "    \n",
    "\n",
    "# def value_function_update(value_function, policy, state):\n",
    "\n",
    "\n",
    "# policy evaluation\n",
    "def policy_evaluation(value_function, policy, delta):\n",
    "    for state in zip(np.arange(0,value_function.shape[0]), np.arange(0,value_function.shape[1])):\n",
    "        v = value_function[state]\n",
    "        # value_function[state] = \n"
   ]
  },
  {
   "cell_type": "code",
   "execution_count": null,
   "metadata": {},
   "outputs": [],
   "source": []
  }
 ],
 "metadata": {
  "kernelspec": {
   "display_name": "rl",
   "language": "python",
   "name": "python3"
  },
  "language_info": {
   "codemirror_mode": {
    "name": "ipython",
    "version": 3
   },
   "file_extension": ".py",
   "mimetype": "text/x-python",
   "name": "python",
   "nbconvert_exporter": "python",
   "pygments_lexer": "ipython3",
   "version": "3.12.3"
  }
 },
 "nbformat": 4,
 "nbformat_minor": 2
}
